{
 "cells": [
  {
   "cell_type": "markdown",
   "metadata": {},
   "source": [
    "# Experimento 1"
   ]
  },
  {
   "cell_type": "code",
   "execution_count": 1,
   "metadata": {},
   "outputs": [
    {
     "name": "stderr",
     "output_type": "stream",
     "text": [
      "/home/franaguilar/anaconda3/envs/TFM/lib/python3.11/site-packages/tqdm/auto.py:21: TqdmWarning: IProgress not found. Please update jupyter and ipywidgets. See https://ipywidgets.readthedocs.io/en/stable/user_install.html\n",
      "  from .autonotebook import tqdm as notebook_tqdm\n"
     ]
    }
   ],
   "source": [
    "import numpy as np\n",
    "import pandas as pd\n",
    "from pydvl.reporting.plots import plot_shapley\n",
    "from pydvl.utils.dataset import GroupedDataset, load_spotify_dataset\n",
    "from pydvl.value import *"
   ]
  },
  {
   "cell_type": "markdown",
   "metadata": {},
   "source": [
    "## Experimento 1a)\n",
    "### Detalles del experimento\n",
    "Compararemos el estimador simple de Montecarlo y el MSR estimator para aproximar el valor de Banzah. Para poder estimar de forma exacta el error de aproximación de ambos estimadores, usaremos un dataset sintético compuesto únicamente por 10 puntos, lo que nos permitirá calcular de forma exacta el valor de Banzhaf.\n",
    "\n",
    "Usaremos como **función de utilidad** la precisión en validación de una regresión logística entrenada con descenso de gradiente con batch completo. Esto nos permite eliminar la aleatoreidad en el entrenamiento, por lo que la aleatoreidad provendrá únicamente del muestreo aleatorio del algoritmo de estimación."
   ]
  },
  {
   "cell_type": "markdown",
   "metadata": {},
   "source": [
    "#### Construcción del dataset sintético"
   ]
  },
  {
   "cell_type": "code",
   "execution_count": 2,
   "metadata": {},
   "outputs": [
    {
     "data": {
      "text/html": [
       "<div>\n",
       "<style scoped>\n",
       "    .dataframe tbody tr th:only-of-type {\n",
       "        vertical-align: middle;\n",
       "    }\n",
       "\n",
       "    .dataframe tbody tr th {\n",
       "        vertical-align: top;\n",
       "    }\n",
       "\n",
       "    .dataframe thead th {\n",
       "        text-align: right;\n",
       "    }\n",
       "</style>\n",
       "<table border=\"1\" class=\"dataframe\">\n",
       "  <thead>\n",
       "    <tr style=\"text-align: right;\">\n",
       "      <th></th>\n",
       "      <th>x1</th>\n",
       "      <th>x2</th>\n",
       "      <th>target</th>\n",
       "    </tr>\n",
       "  </thead>\n",
       "  <tbody>\n",
       "    <tr>\n",
       "      <th>0</th>\n",
       "      <td>-0.889121</td>\n",
       "      <td>-0.467787</td>\n",
       "      <td>-1</td>\n",
       "    </tr>\n",
       "    <tr>\n",
       "      <th>1</th>\n",
       "      <td>1.387925</td>\n",
       "      <td>0.093974</td>\n",
       "      <td>1</td>\n",
       "    </tr>\n",
       "    <tr>\n",
       "      <th>2</th>\n",
       "      <td>1.020231</td>\n",
       "      <td>0.477104</td>\n",
       "      <td>1</td>\n",
       "    </tr>\n",
       "    <tr>\n",
       "      <th>3</th>\n",
       "      <td>-0.536464</td>\n",
       "      <td>0.441952</td>\n",
       "      <td>-1</td>\n",
       "    </tr>\n",
       "    <tr>\n",
       "      <th>4</th>\n",
       "      <td>-0.216595</td>\n",
       "      <td>-0.422389</td>\n",
       "      <td>-1</td>\n",
       "    </tr>\n",
       "    <tr>\n",
       "      <th>5</th>\n",
       "      <td>0.197167</td>\n",
       "      <td>-1.625930</td>\n",
       "      <td>-1</td>\n",
       "    </tr>\n",
       "    <tr>\n",
       "      <th>6</th>\n",
       "      <td>1.292166</td>\n",
       "      <td>-0.771090</td>\n",
       "      <td>1</td>\n",
       "    </tr>\n",
       "    <tr>\n",
       "      <th>7</th>\n",
       "      <td>1.100269</td>\n",
       "      <td>0.036321</td>\n",
       "      <td>1</td>\n",
       "    </tr>\n",
       "    <tr>\n",
       "      <th>8</th>\n",
       "      <td>1.632033</td>\n",
       "      <td>-0.759969</td>\n",
       "      <td>1</td>\n",
       "    </tr>\n",
       "    <tr>\n",
       "      <th>9</th>\n",
       "      <td>-0.211795</td>\n",
       "      <td>0.237769</td>\n",
       "      <td>1</td>\n",
       "    </tr>\n",
       "  </tbody>\n",
       "</table>\n",
       "</div>"
      ],
      "text/plain": [
       "         x1        x2  target\n",
       "0 -0.889121 -0.467787      -1\n",
       "1  1.387925  0.093974       1\n",
       "2  1.020231  0.477104       1\n",
       "3 -0.536464  0.441952      -1\n",
       "4 -0.216595 -0.422389      -1\n",
       "5  0.197167 -1.625930      -1\n",
       "6  1.292166 -0.771090       1\n",
       "7  1.100269  0.036321       1\n",
       "8  1.632033 -0.759969       1\n",
       "9 -0.211795  0.237769       1"
      ]
     },
     "execution_count": 2,
     "metadata": {},
     "output_type": "execute_result"
    }
   ],
   "source": [
    "# Fijamos la semilla\n",
    "rng = np.random.default_rng(seed=123)\n",
    "\n",
    "# Construcción del df\n",
    "mean = [0.1, -0.1]\n",
    "cov = [[1,0],[0,1]]\n",
    "\n",
    "x1, x2 = rng.multivariate_normal(mean, cov, 10).T\n",
    "y = np.sign(x1+x2).astype(int)\n",
    "\n",
    "pd.DataFrame({'x1': x1,'x2': x2,'target':y})"
   ]
  },
  {
   "cell_type": "markdown",
   "metadata": {},
   "source": [
    "#### Construcción de la utilidad"
   ]
  },
  {
   "cell_type": "markdown",
   "metadata": {},
   "source": []
  }
 ],
 "metadata": {
  "kernelspec": {
   "display_name": "TFM",
   "language": "python",
   "name": "python3"
  },
  "language_info": {
   "codemirror_mode": {
    "name": "ipython",
    "version": 3
   },
   "file_extension": ".py",
   "mimetype": "text/x-python",
   "name": "python",
   "nbconvert_exporter": "python",
   "pygments_lexer": "ipython3",
   "version": "3.11.3"
  },
  "orig_nbformat": 4
 },
 "nbformat": 4,
 "nbformat_minor": 2
}
